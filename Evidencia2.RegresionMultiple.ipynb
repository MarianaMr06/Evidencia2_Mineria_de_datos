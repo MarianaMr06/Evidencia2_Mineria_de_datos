{
 "cells": [
  {
   "cell_type": "markdown",
   "metadata": {},
   "source": [
    "# Regresión Lineal Multiple"
   ]
  },
  {
   "cell_type": "code",
   "execution_count": 25,
   "metadata": {},
   "outputs": [],
   "source": [
    "#Librerías\n",
    "import statsmodels.api as sm\n",
    "import pandas as pd\n",
    "import numpy as np\n",
    "import matplotlib.pyplot as plt\n",
    "import seaborn as sns\n",
    "from sklearn.linear_model import LinearRegression"
   ]
  },
  {
   "cell_type": "code",
   "execution_count": 26,
   "metadata": {},
   "outputs": [
    {
     "name": "stdout",
     "output_type": "stream",
     "text": [
      "<class 'pandas.core.frame.DataFrame'>\n",
      "RangeIndex: 657 entries, 0 to 656\n",
      "Data columns (total 27 columns):\n",
      " #   Column               Non-Null Count  Dtype  \n",
      "---  ------               --------------  -----  \n",
      " 0   Unnamed: 0           657 non-null    int64  \n",
      " 1   Alcaldia             657 non-null    object \n",
      " 2   Colonia              657 non-null    object \n",
      " 3   X1                   657 non-null    float64\n",
      " 4   X2                   657 non-null    float64\n",
      " 5   X3                   657 non-null    float64\n",
      " 6   X4                   657 non-null    float64\n",
      " 7   X5                   657 non-null    float64\n",
      " 8   X6                   657 non-null    float64\n",
      " 9   X7                   657 non-null    float64\n",
      " 10  X8                   657 non-null    float64\n",
      " 11  X9                   657 non-null    float64\n",
      " 12  X10                  657 non-null    float64\n",
      " 13  Cocina_equip         657 non-null    int64  \n",
      " 14  Gimnasio             657 non-null    int64  \n",
      " 15  Amueblado            657 non-null    int64  \n",
      " 16  Alberca              657 non-null    int64  \n",
      " 17  Terraza              657 non-null    int64  \n",
      " 18  Elevador             657 non-null    int64  \n",
      " 19  m2_construido        657 non-null    float64\n",
      " 20  Baños                657 non-null    float64\n",
      " 21  Recamaras            657 non-null    int64  \n",
      " 22  Lugares_estac        657 non-null    int64  \n",
      " 23  Precio_m2            657 non-null    float64\n",
      " 24  Cluster Labels       657 non-null    int64  \n",
      " 25  Conglomerados        657 non-null    object \n",
      " 26  NivelSocioEconomico  657 non-null    object \n",
      "dtypes: float64(13), int64(10), object(4)\n",
      "memory usage: 138.7+ KB\n"
     ]
    }
   ],
   "source": [
    "#Carga de archivos\n",
    "inmu = pd.read_csv(\"Clusters.csv\")\n",
    "inmu.info()"
   ]
  },
  {
   "cell_type": "markdown",
   "metadata": {},
   "source": [
    "## Modelo 1 (Todas las variables)\n",
    "Este es el mejor de todos"
   ]
  },
  {
   "cell_type": "code",
   "execution_count": 27,
   "metadata": {},
   "outputs": [
    {
     "name": "stdout",
     "output_type": "stream",
     "text": [
      "Determinacion: 0.7480588775333463\n",
      "Correlación:  0.8649039701223173\n",
      "                            OLS Regression Results                            \n",
      "==============================================================================\n",
      "Dep. Variable:              Precio_m2   R-squared:                       0.748\n",
      "Model:                            OLS   Adj. R-squared:                  0.741\n",
      "Method:                 Least Squares   F-statistic:                     99.55\n",
      "Date:                Mon, 27 Nov 2023   Prob (F-statistic):          3.17e-176\n",
      "Time:                        19:57:38   Log-Likelihood:                -6075.7\n",
      "No. Observations:                 657   AIC:                         1.219e+04\n",
      "Df Residuals:                     637   BIC:                         1.228e+04\n",
      "Df Model:                          19                                         \n",
      "Covariance Type:            nonrobust                                         \n",
      "=================================================================================\n",
      "                    coef    std err          t      P>|t|      [0.025      0.975]\n",
      "---------------------------------------------------------------------------------\n",
      "const         -1437.4161   2183.934     -0.658      0.511   -5725.997    2851.164\n",
      "X1             2867.3888   2593.414      1.106      0.269   -2225.286    7960.064\n",
      "X2            -2781.2602    525.398     -5.294      0.000   -3812.982   -1749.538\n",
      "X3             1093.0076    139.017      7.862      0.000     820.021    1365.994\n",
      "X4               52.3560    234.869      0.223      0.824    -408.855     513.567\n",
      "X5             -477.5905     70.134     -6.810      0.000    -615.312    -339.869\n",
      "X6            -1534.3042    832.801     -1.842      0.066   -3169.672     101.063\n",
      "X7              -24.1865    101.479     -0.238      0.812    -223.460     175.087\n",
      "X8              2.27e+04   5124.160      4.430      0.000    1.26e+04    3.28e+04\n",
      "X9              151.5963    459.414      0.330      0.742    -750.552    1053.745\n",
      "X10            -549.5713    145.992     -3.764      0.000    -836.255    -262.888\n",
      "Cocina_equip      4.0252    468.688      0.009      0.993    -916.334     924.385\n",
      "Gimnasio       -387.9065    355.493     -1.091      0.276   -1085.987     310.174\n",
      "Amueblado       935.2883    704.469      1.328      0.185    -448.075    2318.651\n",
      "Alberca        1371.2545    384.326      3.568      0.000     616.555    2125.954\n",
      "Terraza         -30.3337    338.209     -0.090      0.929    -694.472     633.805\n",
      "Elevador        233.7522    297.517      0.786      0.432    -350.481     817.985\n",
      "Baños          1729.5269    210.258      8.226      0.000    1316.645    2142.409\n",
      "Recamaras       573.7772    227.433      2.523      0.012     127.168    1020.387\n",
      "Lugares_estac  1297.8213    200.525      6.472      0.000     904.051    1691.591\n",
      "==============================================================================\n",
      "Omnibus:                      514.300   Durbin-Watson:                   1.987\n",
      "Prob(Omnibus):                  0.000   Jarque-Bera (JB):            19519.111\n",
      "Skew:                           3.102   Prob(JB):                         0.00\n",
      "Kurtosis:                      28.972   Cond. No.                     3.63e+03\n",
      "==============================================================================\n",
      "\n",
      "Notes:\n",
      "[1] Standard Errors assume that the covariance matrix of the errors is correctly specified.\n",
      "[2] The condition number is large, 3.63e+03. This might indicate that there are\n",
      "strong multicollinearity or other numerical problems.\n"
     ]
    }
   ],
   "source": [
    "model = LinearRegression()\n",
    "type(model)\n",
    "\n",
    "x = inmu[[\"X1\", \"X2\", \"X3\", \"X4\", \"X5\", \"X6\", \"X7\", \"X8\", \"X9\", \"X10\", \"Cocina_equip\", \"Gimnasio\", \"Amueblado\", \"Alberca\", \"Terraza\", \"Elevador\", \"Baños\", \"Recamaras\", \"Lugares_estac\"]]\n",
    "y = inmu[\"Precio_m2\"]\n",
    "\n",
    "model.fit(X = x, y = y)\n",
    "model.__dict__\n",
    "#Coeficiente de determinación\n",
    "determinacion = model.score(x, y)\n",
    "correlacion = np.sqrt(determinacion)\n",
    "print(\"Determinacion:\", determinacion)\n",
    "print(\"Correlación: \", correlacion)\n",
    "\n",
    "# Agrega una constante al conjunto de datos (intercepto)\n",
    "x_with_intercept = sm.add_constant(x)\n",
    "\n",
    "# Ajusta el modelo\n",
    "model = sm.OLS(y, x_with_intercept).fit()\n",
    "\n",
    "# Imprime un resumen del modelo que incluye valores p\n",
    "print(model.summary())"
   ]
  },
  {
   "cell_type": "markdown",
   "metadata": {},
   "source": [
    "## Modelo 2 (Con significantes)"
   ]
  },
  {
   "cell_type": "code",
   "execution_count": 28,
   "metadata": {},
   "outputs": [
    {
     "name": "stdout",
     "output_type": "stream",
     "text": [
      "Determinacion: 0.7367105913396992\n",
      "Correlación:  0.858318467318337\n",
      "                            OLS Regression Results                            \n",
      "==============================================================================\n",
      "Dep. Variable:              Precio_m2   R-squared:                       0.737\n",
      "Model:                            OLS   Adj. R-squared:                  0.733\n",
      "Method:                 Least Squares   F-statistic:                     201.2\n",
      "Date:                Mon, 27 Nov 2023   Prob (F-statistic):          5.98e-181\n",
      "Time:                        19:57:38   Log-Likelihood:                -6090.2\n",
      "No. Observations:                 657   AIC:                         1.220e+04\n",
      "Df Residuals:                     647   BIC:                         1.225e+04\n",
      "Df Model:                           9                                         \n",
      "Covariance Type:            nonrobust                                         \n",
      "=================================================================================\n",
      "                    coef    std err          t      P>|t|      [0.025      0.975]\n",
      "---------------------------------------------------------------------------------\n",
      "const         -1522.5496   1732.780     -0.879      0.380   -4925.101    1880.002\n",
      "X2            -1034.2976    268.884     -3.847      0.000   -1562.288    -506.307\n",
      "X3              729.6193     79.917      9.130      0.000     572.692     886.547\n",
      "X5             -465.8834     56.872     -8.192      0.000    -577.560    -354.207\n",
      "X8             1.941e+04   3930.629      4.939      0.000    1.17e+04    2.71e+04\n",
      "X10            -390.5308     40.148     -9.727      0.000    -469.368    -311.694\n",
      "Alberca        1251.9295    321.454      3.895      0.000     620.711    1883.148\n",
      "Baños          1662.8778    204.103      8.147      0.000    1262.093    2063.662\n",
      "Recamaras       781.3415    224.378      3.482      0.001     340.745    1221.938\n",
      "Lugares_estac  1346.4962    195.842      6.875      0.000     961.934    1731.058\n",
      "==============================================================================\n",
      "Omnibus:                      516.252   Durbin-Watson:                   2.028\n",
      "Prob(Omnibus):                  0.000   Jarque-Bera (JB):            21356.515\n",
      "Skew:                           3.086   Prob(JB):                         0.00\n",
      "Kurtosis:                      30.240   Cond. No.                     2.63e+03\n",
      "==============================================================================\n",
      "\n",
      "Notes:\n",
      "[1] Standard Errors assume that the covariance matrix of the errors is correctly specified.\n",
      "[2] The condition number is large, 2.63e+03. This might indicate that there are\n",
      "strong multicollinearity or other numerical problems.\n"
     ]
    }
   ],
   "source": [
    "#Modelo 2 (Con significantes)\n",
    "model = LinearRegression()\n",
    "type(model)\n",
    "\n",
    "x = inmu[[\"X2\", \"X3\", \"X5\",\"X8\", \"X10\", \"Alberca\", \"Baños\", \"Recamaras\", \"Lugares_estac\"]]\n",
    "y = inmu[\"Precio_m2\"]\n",
    "\n",
    "model.fit(X = x, y = y)\n",
    "model.__dict__\n",
    "#Coeficiente de determinación\n",
    "determinacion = model.score(x, y)\n",
    "correlacion = np.sqrt(determinacion)\n",
    "print(\"Determinacion:\", determinacion)\n",
    "print(\"Correlación: \", correlacion)\n",
    "\n",
    "# Agrega una constante al conjunto de datos (intercepto)\n",
    "x_with_intercept = sm.add_constant(x)\n",
    "\n",
    "# Ajusta el modelo\n",
    "model = sm.OLS(y, x_with_intercept).fit()\n",
    "\n",
    "# Imprime un resumen del modelo que incluye valores p\n",
    "print(model.summary())"
   ]
  },
  {
   "cell_type": "markdown",
   "metadata": {},
   "source": [
    "## Modelo 3 (Con correlaciones más altas)"
   ]
  },
  {
   "cell_type": "code",
   "execution_count": 29,
   "metadata": {},
   "outputs": [
    {
     "name": "stdout",
     "output_type": "stream",
     "text": [
      "Determinacion: 0.6483537987961022\n",
      "Correlación:  0.8052041969563387\n",
      "                            OLS Regression Results                            \n",
      "==============================================================================\n",
      "Dep. Variable:              Precio_m2   R-squared:                       0.648\n",
      "Model:                            OLS   Adj. R-squared:                  0.645\n",
      "Method:                 Least Squares   F-statistic:                     170.9\n",
      "Date:                Mon, 27 Nov 2023   Prob (F-statistic):          1.01e-142\n",
      "Time:                        19:57:38   Log-Likelihood:                -6185.2\n",
      "No. Observations:                 657   AIC:                         1.239e+04\n",
      "Df Residuals:                     649   BIC:                         1.242e+04\n",
      "Df Model:                           7                                         \n",
      "Covariance Type:            nonrobust                                         \n",
      "=================================================================================\n",
      "                    coef    std err          t      P>|t|      [0.025      0.975]\n",
      "---------------------------------------------------------------------------------\n",
      "const         -3983.4077    493.184     -8.077      0.000   -4951.836   -3014.979\n",
      "Gimnasio       -788.7465    384.514     -2.051      0.041   -1543.788     -33.705\n",
      "Alberca        1938.8306    412.111      4.705      0.000    1129.599    2748.062\n",
      "Terraza        1226.8637    336.896      3.642      0.000     565.326    1888.402\n",
      "Elevador        147.8290    298.111      0.496      0.620    -437.550     733.208\n",
      "Baños          2375.8266    234.258     10.142      0.000    1915.831    2835.822\n",
      "Recamaras       246.4787    252.463      0.976      0.329    -249.264     742.222\n",
      "Lugares_estac  1935.9446    222.752      8.691      0.000    1498.543    2373.346\n",
      "==============================================================================\n",
      "Omnibus:                      454.628   Durbin-Watson:                   2.062\n",
      "Prob(Omnibus):                  0.000   Jarque-Bera (JB):            13589.184\n",
      "Skew:                           2.642   Prob(JB):                         0.00\n",
      "Kurtosis:                      24.645   Cond. No.                         16.9\n",
      "==============================================================================\n",
      "\n",
      "Notes:\n",
      "[1] Standard Errors assume that the covariance matrix of the errors is correctly specified.\n"
     ]
    }
   ],
   "source": [
    "#Modelo 3 (Con correlaciones más altas)\n",
    "# data_selected = inmu[[\"Precio_m2\", \"X1\", \"X2\", \"X3\", \"X4\", \"X5\", \"X6\", \"X7\", \"X8\", \"X9\", \"X10\", \"Cocina_equip\", \"Gimnasio\", \"Amueblado\", \"Alberca\", \"Terraza\", \"Elevador\", \"Baños\", \"Recamaras\", \"Lugares_estac\"]]\n",
    "\n",
    "# # Calcula la matriz de correlación\n",
    "# correlation_matrix = data_selected.corr()\n",
    "\n",
    "# # Crea el heatmap con seaborn\n",
    "# plt.figure(figsize=(10, 8))\n",
    "# sns.heatmap(correlation_matrix, annot=True, cmap=\"coolwarm\", fmt=\".2f\", linewidths=.5)\n",
    "# plt.title(\"Heatmap de Correlación entre Variables Seleccionadas\")\n",
    "# plt.show()\n",
    "\n",
    "model = LinearRegression()\n",
    "type(model)\n",
    "\n",
    "x = inmu[[\"Gimnasio\", \"Alberca\", \"Terraza\", \"Elevador\", \"Baños\", \"Recamaras\", \"Lugares_estac\"]]\n",
    "y = inmu[\"Precio_m2\"]\n",
    "\n",
    "model.fit(X = x, y = y)\n",
    "model.__dict__\n",
    "#Coeficiente de determinación\n",
    "determinacion = model.score(x, y)\n",
    "correlacion = np.sqrt(determinacion)\n",
    "print(\"Determinacion:\", determinacion)\n",
    "print(\"Correlación: \", correlacion)\n",
    "\n",
    "# Agrega una constante al conjunto de datos (intercepto)\n",
    "x_with_intercept = sm.add_constant(x)\n",
    "\n",
    "# Ajusta el modelo\n",
    "model = sm.OLS(y, x_with_intercept).fit()\n",
    "\n",
    "# Imprime un resumen del modelo que incluye valores p\n",
    "print(model.summary())"
   ]
  },
  {
   "cell_type": "markdown",
   "metadata": {},
   "source": [
    "## Modelo 4 (Con significantes de la anterior)"
   ]
  },
  {
   "cell_type": "code",
   "execution_count": 30,
   "metadata": {},
   "outputs": [
    {
     "name": "stdout",
     "output_type": "stream",
     "text": [
      "Determinacion: 0.6477140502689188\n",
      "Correlación:  0.8048068403467498\n",
      "                            OLS Regression Results                            \n",
      "==============================================================================\n",
      "Dep. Variable:              Precio_m2   R-squared:                       0.648\n",
      "Model:                            OLS   Adj. R-squared:                  0.645\n",
      "Method:                 Least Squares   F-statistic:                     239.4\n",
      "Date:                Mon, 27 Nov 2023   Prob (F-statistic):          7.59e-145\n",
      "Time:                        19:57:38   Log-Likelihood:                -6185.8\n",
      "No. Observations:                 657   AIC:                         1.238e+04\n",
      "Df Residuals:                     651   BIC:                         1.241e+04\n",
      "Df Model:                           5                                         \n",
      "Covariance Type:            nonrobust                                         \n",
      "=================================================================================\n",
      "                    coef    std err          t      P>|t|      [0.025      0.975]\n",
      "---------------------------------------------------------------------------------\n",
      "const         -3565.6455    276.410    -12.900      0.000   -4108.408   -3022.883\n",
      "Gimnasio       -773.0224    383.135     -2.018      0.044   -1525.352     -20.693\n",
      "Alberca        1930.1871    408.522      4.725      0.000    1128.007    2732.367\n",
      "Terraza        1233.2721    311.408      3.960      0.000     621.786    1844.758\n",
      "Baños          2474.0428    215.768     11.466      0.000    2050.357    2897.729\n",
      "Lugares_estac  1980.0743    217.340      9.111      0.000    1553.303    2406.845\n",
      "==============================================================================\n",
      "Omnibus:                      454.458   Durbin-Watson:                   2.065\n",
      "Prob(Omnibus):                  0.000   Jarque-Bera (JB):            13630.454\n",
      "Skew:                           2.639   Prob(JB):                         0.00\n",
      "Kurtosis:                      24.681   Cond. No.                         11.1\n",
      "==============================================================================\n",
      "\n",
      "Notes:\n",
      "[1] Standard Errors assume that the covariance matrix of the errors is correctly specified.\n"
     ]
    }
   ],
   "source": [
    "#Modelo 4 (Con significantes de la anterior)\n",
    "model = LinearRegression()\n",
    "type(model)\n",
    "\n",
    "x = inmu[[\"Gimnasio\", \"Alberca\", \"Terraza\", \"Baños\", \"Lugares_estac\"]]\n",
    "y = inmu[\"Precio_m2\"]\n",
    "\n",
    "model.fit(X = x, y = y)\n",
    "model.__dict__\n",
    "#Coeficiente de determinación\n",
    "determinacion = model.score(x, y)\n",
    "correlacion = np.sqrt(determinacion)\n",
    "print(\"Determinacion:\", determinacion)\n",
    "print(\"Correlación: \", correlacion)\n",
    "\n",
    "# Agrega una constante al conjunto de datos (intercepto)\n",
    "x_with_intercept = sm.add_constant(x)\n",
    "\n",
    "# Ajusta el modelo\n",
    "model = sm.OLS(y, x_with_intercept).fit()\n",
    "\n",
    "# Imprime un resumen del modelo que incluye valores p\n",
    "print(model.summary())"
   ]
  }
 ],
 "metadata": {
  "kernelspec": {
   "display_name": "Python 3",
   "language": "python",
   "name": "python3"
  },
  "language_info": {
   "codemirror_mode": {
    "name": "ipython",
    "version": 3
   },
   "file_extension": ".py",
   "mimetype": "text/x-python",
   "name": "python",
   "nbconvert_exporter": "python",
   "pygments_lexer": "ipython3",
   "version": "3.11.4"
  }
 },
 "nbformat": 4,
 "nbformat_minor": 2
}
